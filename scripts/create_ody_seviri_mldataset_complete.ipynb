{
 "cells": [
  {
   "cell_type": "code",
   "execution_count": 1,
   "metadata": {
    "collapsed": true
   },
   "outputs": [],
   "source": [
    "#PROBLEM: reflectance estimated with demo_refl039 & get_reflectance is a bit different\n",
    "    #sza (from pytroll) & sunz (from knmi) is quite a bit different\n",
    "\n",
    "#so far missing: cldmask, cph, qa, structural params..."
   ]
  },
  {
   "cell_type": "code",
   "execution_count": 1,
   "metadata": {
    "collapsed": true
   },
   "outputs": [],
   "source": [
    "import datetime\n",
    "import logging\n",
    "\n",
    "from mpop.satellites import GeostationaryFactory\n",
    "from mpop.projector import get_area_def\n",
    "\n",
    "from pyresample import plot\n",
    "import numpy as np\n",
    "from pydecorate import DecoratorAGG\n",
    "import aggdraw\n",
    "from trollimage.colormap import rainbow, RainRate\n",
    "from trollimage.image import Image as trollimage\n",
    "from PIL import ImageFont, ImageDraw \n",
    "from pycoast import ContourWriterAGG\n",
    "import sys\n",
    "\n",
    "\n",
    "# to get the local time\n",
    "import ephem\n",
    "\n",
    "\n",
    "# to get the solar reflectance of the IR_039 channel\n",
    "from pyspectral.near_infrared_reflectance import Calculator\n",
    "from pyspectral.solar import (SolarIrradianceSpectrum, TOTAL_IRRADIANCE_SPECTRUM_2000ASTM)\n",
    "from pyspectral.rsr_reader import RelativeSpectralResponse\n",
    "from pyorbital.astronomy import sun_zenith_angle\n",
    "\n"
   ]
  },
  {
   "cell_type": "code",
   "execution_count": 2,
   "metadata": {
    "collapsed": true
   },
   "outputs": [],
   "source": [
    "def solartime(observer, sun=ephem.Sun()):\n",
    "    sun.compute(observer)\n",
    "    # sidereal time == ra (right ascension) is the highest point (noon)\n",
    "    hour_angle = observer.sidereal_time() - sun.ra\n",
    "    return ephem.hours(hour_angle + ephem.hours('12:00')).norm  # norm for 24h"
   ]
  },
  {
   "cell_type": "code",
   "execution_count": null,
   "metadata": {
    "collapsed": true
   },
   "outputs": [],
   "source": []
  },
  {
   "cell_type": "code",
   "execution_count": 3,
   "metadata": {
    "collapsed": true
   },
   "outputs": [],
   "source": [
    "# set the date\n",
    "time_slot=datetime.datetime(2017,6,16,12,0,0,0)\n",
    "#datetime1=datetime.datetime(2017,6,9,12,0)"
   ]
  },
  {
   "cell_type": "code",
   "execution_count": 4,
   "metadata": {},
   "outputs": [
    {
     "data": {
      "text/plain": [
       "42901.0"
      ]
     },
     "execution_count": 4,
     "metadata": {},
     "output_type": "execute_result"
    }
   ],
   "source": [
    "# set up to be able to calculate solar time\n",
    "o = ephem.Observer()\n",
    "o.date = time_slot # some utc time\n",
    "o.date"
   ]
  },
  {
   "cell_type": "code",
   "execution_count": null,
   "metadata": {
    "collapsed": true
   },
   "outputs": [],
   "source": []
  },
  {
   "cell_type": "code",
   "execution_count": 5,
   "metadata": {
    "collapsed": true
   },
   "outputs": [],
   "source": [
    "load_radar=True\n",
    "load_sat=True\n",
    "load_knmi = True\n",
    "\n",
    "\n",
    "# RADAR\n",
    "prop_str='RATE'\n",
    "\n",
    "\n",
    "\n",
    "\n",
    "# SATELLITE\n",
    "#channel_sat=['VIS006','VIS008','IR_016','IR_039','WV_062','WV_073','IR_087','IR_097','IR_108','IR_120','IR_134','HRV']\n",
    "channel_sat=['VIS006','VIS008','IR_016','IR_039','WV_062','WV_073','IR_087','IR_097','IR_108','IR_120','IR_134']\n",
    "\n",
    "\n",
    "\n",
    "\n",
    "#KNMI\n",
    "# ATTENTION: cloud mask channel (cldmask) missing for now because it doesn't have the attribute units \n",
    "    #& I do not have the rights to try & add them \n",
    "#channel_knmi = ['azidiff','cth','cot','cph','ctt','cwp','dcld','dcot','dcwp','dndv','dreff','qa','reff','satz','sds','sds_cs','sds_diff','sds_diff_cs','sunz']\n",
    "\n",
    "\n",
    "# here without sunz because it differs (up to 1.18° in time instance I tried) from the pytroll computed one\n",
    "#channel_knmi = ['azidiff','cth','cot','cph','ctt','cwp','dcld','dcot','dcwp','dndv','dreff','qa','reff','satz','sds','sds_cs','sds_diff','sds_diff_cs']\n",
    "\n",
    "# test without cldmask, cph & qa because they give the following mistake:\n",
    "    # TypeError: Fill value 9.96920996839e+36 overflows dtype int16 \n",
    "channel_knmi = ['azidiff','cth','cldmask','cot','cph','ctt','cwp','dcld','dcot','dcwp','dndv','dreff','qa','reff','satz','sds','sds_cs','sds_diff','sds_diff_cs']\n",
    "#channel_knmi = ['azidiff','cth','cot','ctt','cwp','dcld','dcot','dcwp','dndv','dreff','reff','satz','sds','sds_cs','sds_diff','sds_diff_cs']\n",
    "\n",
    "\n"
   ]
  },
  {
   "cell_type": "code",
   "execution_count": 6,
   "metadata": {
    "scrolled": true
   },
   "outputs": [
    {
     "name": "stdout",
     "output_type": "stream",
     "text": [
      "'RATE: (-inf,-inf,-inf)μm, shape (2200, 1900), resolution 0m'\n",
      "'RATE-MASK: (-inf,-inf,-inf)μm, shape (2200, 1900), resolution 0m'\n",
      "=========================\n",
      "'VIS006: (0.560,0.635,0.710)μm, shape (3712, 3712), resolution 3000.40316582m'\n",
      "'VIS008: (0.740,0.810,0.880)μm, shape (3712, 3712), resolution 3000.40316582m'\n",
      "'IR_016: (1.500,1.640,1.780)μm, shape (3712, 3712), resolution 3000.40316582m'\n",
      "'IR_039: (3.480,3.920,4.360)μm, shape (3712, 3712), resolution 3000.40316582m'\n",
      "'WV_062: (5.350,6.250,7.150)μm, shape (3712, 3712), resolution 3000.40316582m'\n",
      "'WV_073: (6.850,7.350,7.850)μm, shape (3712, 3712), resolution 3000.40316582m'\n",
      "'IR_087: (8.300,8.700,9.100)μm, shape (3712, 3712), resolution 3000.40316582m'\n",
      "'IR_097: (9.380,9.660,9.940)μm, shape (3712, 3712), resolution 3000.40316582m'\n",
      "'IR_108: (9.800,10.800,11.800)μm, shape (3712, 3712), resolution 3000.40316582m'\n",
      "'IR_120: (11.000,12.000,13.000)μm, shape (3712, 3712), resolution 3000.40316582m'\n",
      "'IR_134: (12.400,13.400,14.400)μm, shape (3712, 3712), resolution 3000.40316582m'\n",
      "'HRV: (0.500,0.700,0.900)μm, resolution 1000.13434887m, not loaded'\n",
      "'HRW: (-inf,-inf,-inf)μm, resolution 0m, not loaded'\n",
      "'HRW: (-inf,-inf,-inf)μm, resolution 0m, not loaded'\n",
      "=========================\n",
      "20170616T121500\n",
      "... search for file:  /data/COALITION2/in/cpp/SEVIR_OPER_R___MSGCPP__L2__20170616T120000_20170616T121500_0001.nc\n",
      "... read data from /data/COALITION2/in/cpp/SEVIR_OPER_R___MSGCPP__L2__20170616T120000_20170616T121500_0001.nc\n",
      "... units  degree\n",
      "*** *** units  degree\n",
      "... units  None\n",
      "*** *** units  None\n",
      "... units  m\n",
      "*** *** units  m\n",
      "... units  None\n",
      "*** *** units  None\n",
      "... units  W m-2\n",
      "*** *** units  W m-2\n",
      "... units  kg m-2\n",
      "*** *** units  kg m-2\n",
      "... units  degree\n",
      "*** *** units  degree\n",
      "... units  K\n",
      "*** *** units  K\n",
      "... units  None\n",
      "*** *** units  None\n",
      "... units  m\n",
      "*** *** units  micro m\n",
      "... units  m-3\n",
      "*** *** units  m-3\n",
      "... units  None\n",
      "*** *** units  None\n",
      "*** *** units  None\n",
      "... units  kg m-2\n",
      "*** *** units  kg m-2\n",
      "... units  W m-2\n",
      "*** *** units  W m-2\n",
      "... units  m\n",
      "*** *** units  km\n",
      "... units  W m-2\n",
      "*** *** units  W m-2\n",
      "... units  W m-2\n",
      "*** *** units  W m-2\n",
      "... units  m\n",
      "*** *** units  micro m\n",
      "'azidiff: (-inf,-inf,-inf)μm, shape (3712, 3712), resolution 3000.40316582m'\n",
      "'cth: (-inf,-inf,-inf)μm, shape (3712, 3712), resolution 3000.40316582m'\n",
      "'cldmask: (-inf,-inf,-inf)μm, shape (3712, 3712), resolution 3000.40316582m'\n",
      "'cot: (-inf,-inf,-inf)μm, shape (3712, 3712), resolution 3000.40316582m'\n",
      "'cph: (-inf,-inf,-inf)μm, shape (3712, 3712), resolution 3000.40316582m'\n",
      "'ctt: (-inf,-inf,-inf)μm, shape (3712, 3712), resolution 3000.40316582m'\n",
      "'cwp: (-inf,-inf,-inf)μm, shape (3712, 3712), resolution 3000.40316582m'\n",
      "'dcld: (-inf,-inf,-inf)μm, shape (3712, 3712), resolution 3000.40316582m'\n",
      "'dcot: (-inf,-inf,-inf)μm, shape (3712, 3712), resolution 3000.40316582m'\n",
      "'dcwp: (-inf,-inf,-inf)μm, shape (3712, 3712), resolution 3000.40316582m'\n",
      "'dndv: (-inf,-inf,-inf)μm, shape (3712, 3712), resolution 3000.40316582m'\n",
      "'dreff: (-inf,-inf,-inf)μm, shape (3712, 3712), resolution 3000.40316582m'\n",
      "'precip: (-inf,-inf,-inf)μm, resolution 3000.40316582m, not loaded'\n",
      "'precip_ir: (-inf,-inf,-inf)μm, resolution 3000.40316582m, not loaded'\n",
      "'qa: (-inf,-inf,-inf)μm, shape (3712, 3712), resolution 3000.40316582m'\n",
      "'satz: (-inf,-inf,-inf)μm, shape (3712, 3712), resolution 3000.40316582m'\n",
      "'satz: (-inf,-inf,-inf)μm, resolution 3000.40316582m, not loaded'\n",
      "'sds: (-inf,-inf,-inf)μm, shape (3712, 3712), resolution 3000.40316582m'\n",
      "'sds_cs: (-inf,-inf,-inf)μm, shape (3712, 3712), resolution 3000.40316582m'\n",
      "'sds_diff: (-inf,-inf,-inf)μm, shape (3712, 3712), resolution 3000.40316582m'\n",
      "'sds_diff_cs: (-inf,-inf,-inf)μm, shape (3712, 3712), resolution 3000.40316582m'\n",
      "'sunz: (-inf,-inf,-inf)μm, resolution 3000.40316582m, not loaded'\n",
      "'lat: (-inf,-inf,-inf)μm, resolution 3000.40316582m, not loaded'\n",
      "'lon: (-inf,-inf,-inf)μm, resolution 3000.40316582m, not loaded'\n",
      "'time_offset: (-inf,-inf,-inf)μm, resolution 3000.40316582m, not loaded'\n",
      "'MASK: (-inf,-inf,-inf)μm, shape (3712, 3712), resolution 0m'\n",
      "'reff: (-inf,-inf,-inf)μm, shape (3712, 3712), resolution 0m'\n",
      "=========================\n"
     ]
    }
   ],
   "source": [
    "if load_radar:\n",
    "    global_radar = GeostationaryFactory.create_scene(\"odyssey\", \"\", \"radar\", time_slot)\n",
    "    global_radar.load([prop_str])\n",
    "    print(global_radar)\n",
    "    print(\"=========================\")\n",
    "\n",
    "if load_sat:\n",
    "    global_sat = GeostationaryFactory.create_scene(\"meteosat\", \"09\", \"seviri\", time_slot)\n",
    "    #global_sat = GeostationaryFactory.create_scene(\"Meteosat-9\", \"\", \"seviri\", time_slot)\n",
    "        # test to be able to apply get_reflectance -> doesn't work -.- need workaround -> only change name\n",
    "            # right when apply it\n",
    "\n",
    "    #global_sat.load(['IR_108'], reader_level=\"seviri-level2\") \n",
    "    global_sat.load(channel_sat, reader_level=\"seviri-level2\")\n",
    "    print(global_sat)\n",
    "    print(\"=========================\")\n",
    "\n",
    "if load_knmi:\n",
    "    global_knmi = GeostationaryFactory.create_scene(\"cpp\", \"10\", \"seviri\", time_slot)\n",
    "    global_knmi.load(channel_knmi)\n",
    "    print(global_knmi)\n",
    "    print(\"=========================\")"
   ]
  },
  {
   "cell_type": "code",
   "execution_count": null,
   "metadata": {
    "collapsed": true
   },
   "outputs": [],
   "source": []
  },
  {
   "cell_type": "code",
   "execution_count": 7,
   "metadata": {},
   "outputs": [
    {
     "name": "stdout",
     "output_type": "stream",
     "text": [
      "start projection\n",
      "ok\n"
     ]
    }
   ],
   "source": [
    "area='EuropeOdyssey95'\n",
    "\n",
    "reproject=True\n",
    "if reproject:\n",
    "  \n",
    "    print (\"start projection\")\n",
    "   # PROJECT data to new area \n",
    "    if load_radar:\n",
    "    \n",
    "        data_radar = global_radar.project(area)\n",
    "       #data[prop_str].product_name = global_radar[prop_str].product_name\n",
    "       #data[prop_str].units = global_radar[prop_str].units\n",
    "       \n",
    "        global_radar = data_radar\n",
    "    if load_sat:\n",
    "        data_sat = global_sat.project(area)\n",
    "        global_sat = data_sat\n",
    "\n",
    "        from pyorbital.astronomy import sun_zenith_angle\n",
    "        lonlats = global_sat[channel_sat[0]].area.get_lonlats()\n",
    "        #sza = sun_zenith_angle(datetime1, lonlats[0], lonlats[1])\n",
    "        sza = sun_zenith_angle(time_slot, lonlats[0], lonlats[1])\n",
    "        \n",
    "    \n",
    "    if load_knmi:\n",
    "        data_knmi = global_knmi.project(area)\n",
    "        global_knmi = data_knmi\n",
    "        print('ok')"
   ]
  },
  {
   "cell_type": "code",
   "execution_count": null,
   "metadata": {
    "collapsed": true
   },
   "outputs": [],
   "source": []
  },
  {
   "cell_type": "code",
   "execution_count": 8,
   "metadata": {
    "collapsed": true
   },
   "outputs": [],
   "source": [
    "# correct the VIS channels for the solar zenith angle\n",
    "cos_sza = np.cos(np.deg2rad(sza))\n",
    "global_sat['VIS006']=global_sat['VIS006']/cos_sza\n",
    "global_sat['VIS008']=global_sat['VIS008']/cos_sza\n",
    "global_sat['IR_016']=global_sat['IR_016']/cos_sza\n"
   ]
  },
  {
   "cell_type": "code",
   "execution_count": 9,
   "metadata": {
    "scrolled": true
   },
   "outputs": [
    {
     "name": "stdout",
     "output_type": "stream",
     "text": [
      "... calculate viewing geometry using  WV_073\n",
      "... get orbital identification line (norad) for METEOSAT 9\n"
     ]
    },
    {
     "name": "stderr",
     "output_type": "stream",
     "text": [
      "No handlers could be found for logger \"pyorbital.tlefile\"\n"
     ]
    },
    {
     "name": "stdout",
     "output_type": "stream",
     "text": [
      "*** Simple estimation of Cloud Top Height with IR_108 channel\n",
      "... automatic choise of temperature profile lon= 10.3038092003  lat= 48.9352808753 , time= 2017-06-16 12:00:00 , doy= 167\n",
      "    choosing temperature profile for  midlatitude summer\n",
      "*** estimating CTH using the 10.8 micro meter brightness temperature \n",
      "... assume  midlatitude summer  atmosphere for temperature profile\n",
      "     z0(km)   z1(km)   T0(K)   T1(K)  number of pixels\n",
      "------------------------------------------------------\n",
      "      0.0      1.0    294.2    289.7    54354\n",
      "      1.0      2.0    289.7    285.2    43245\n",
      "      2.0      3.0    285.2    279.2    54585\n",
      "      3.0      4.0    279.2    273.2    38694\n",
      "      4.0      5.0    273.2    267.2    34705\n",
      "      5.0      6.0    267.2    261.2    27907\n",
      "      6.0      7.0    261.2    254.7    24292\n",
      "      7.0      8.0    254.7    248.2    20351\n",
      "      8.0      9.0    248.2    241.7    15023\n",
      "      9.0     10.0    241.7    235.3    10984\n",
      "     10.0     11.0    235.3    228.8     5824\n",
      "     11.0     12.0    228.8    222.3     3902\n",
      "     12.0     13.0    222.3    215.8     1379\n",
      "     13.0     14.0    215.8    215.7       31\n",
      "     14.0     15.0    215.7    215.7        0\n",
      "... perform parallax correction for  WV_073\n",
      "    replace channel  WV_073\n",
      "... azimuth and elevation angle given\n",
      "... calculate parallax shift\n"
     ]
    },
    {
     "name": "stderr",
     "output_type": "stream",
     "text": [
      "/opt/users/bel/monti-pytroll/packages/mpop/mpop/channel.py:665: FutureWarning: comparison to `None` will result in an elementwise object comparison in the future.\n",
      "  if azi==None or ele==None:\n"
     ]
    },
    {
     "name": "stdout",
     "output_type": "stream",
     "text": [
      "... copy data to parallax corrected position\n",
      "... perform parallax correction for  IR_087\n",
      "    replace channel  IR_087\n",
      "... azimuth and elevation angle given\n",
      "... calculate parallax shift\n",
      "... copy data to parallax corrected position\n",
      "... perform parallax correction for  VIS008\n",
      "    replace channel  VIS008\n",
      "... azimuth and elevation angle given\n",
      "... calculate parallax shift\n",
      "... copy data to parallax corrected position\n",
      "... perform parallax correction for  IR_016\n",
      "    replace channel  IR_016\n",
      "... azimuth and elevation angle given\n",
      "... calculate parallax shift\n",
      "... copy data to parallax corrected position\n",
      "... perform parallax correction for  IR_134\n",
      "    replace channel  IR_134\n",
      "... azimuth and elevation angle given\n",
      "... calculate parallax shift\n",
      "... copy data to parallax corrected position\n",
      "... perform parallax correction for  IR_097\n",
      "    replace channel  IR_097\n",
      "... azimuth and elevation angle given\n",
      "... calculate parallax shift\n",
      "... copy data to parallax corrected position\n",
      "... perform parallax correction for  CTH\n",
      "    replace channel  CTH\n",
      "... azimuth and elevation angle given\n",
      "... calculate parallax shift\n",
      "... copy data to parallax corrected position\n",
      "... perform parallax correction for  IR_108\n",
      "    replace channel  IR_108\n",
      "... azimuth and elevation angle given\n",
      "... calculate parallax shift\n",
      "... copy data to parallax corrected position\n",
      "... perform parallax correction for  IR_039\n",
      "    replace channel  IR_039\n",
      "... azimuth and elevation angle given\n",
      "... calculate parallax shift\n",
      "... copy data to parallax corrected position\n",
      "... perform parallax correction for  VIS006\n",
      "    replace channel  VIS006\n",
      "... azimuth and elevation angle given\n",
      "... calculate parallax shift\n",
      "... copy data to parallax corrected position\n",
      "... perform parallax correction for  WV_062\n",
      "    replace channel  WV_062\n",
      "... azimuth and elevation angle given\n",
      "... calculate parallax shift\n",
      "... copy data to parallax corrected position\n",
      "... perform parallax correction for  IR_120\n",
      "    replace channel  IR_120\n",
      "... azimuth and elevation angle given\n",
      "... calculate parallax shift\n",
      "... copy data to parallax corrected position\n"
     ]
    }
   ],
   "source": [
    "#carry out a parallax correction for all channels\n",
    "global_sat = global_sat.parallax_corr(fill='bilinear', estimate_cth='standard', replace=True)"
   ]
  },
  {
   "cell_type": "code",
   "execution_count": null,
   "metadata": {
    "collapsed": true
   },
   "outputs": [],
   "source": []
  },
  {
   "cell_type": "code",
   "execution_count": 10,
   "metadata": {},
   "outputs": [],
   "source": [
    "# estimate the solar reflectance of the IR_039 chanel (ATTENTION: not trustworthy!)\n",
    "    # If I use the method from the demo program get slightly different values (& since absolute values so \n",
    "    # tiny, this might actually have an impact)\n",
    "    # what should I do with this channel?!\n",
    "global_sat['IR_039'].info['satname']='Meteosat-9'\n",
    "global_sat['IR_039'].info['satnumber']=''\n",
    "\n",
    "refl039=global_sat['IR_039'].get_reflectance(tb11=global_sat['IR_108'].data,sun_zenith=sza,tb13_4=global_sat['IR_134'].data)\n",
    "\n",
    "# is this one sunzen corrected yet?!?! if not: can just do after/before parallax corr, right?\n",
    "    # so far assume it is... considering I need to provide sza as an input argument ^^"
   ]
  },
  {
   "cell_type": "code",
   "execution_count": null,
   "metadata": {
    "collapsed": true
   },
   "outputs": [],
   "source": []
  },
  {
   "cell_type": "code",
   "execution_count": null,
   "metadata": {
    "collapsed": true
   },
   "outputs": [],
   "source": []
  },
  {
   "cell_type": "code",
   "execution_count": 11,
   "metadata": {
    "scrolled": true
   },
   "outputs": [
    {
     "name": "stdout",
     "output_type": "stream",
     "text": [
      "('*** write data to: ncdump ', '/data/COALITION2/PicturesSatellite/results_BEL/data/logreg/ODYRATE_SEVIRI_20170616_1200.nc')\n",
      "('dataset length', 294140)\n",
      "VIS006 0\n",
      "VIS008 1\n",
      "IR_016 2\n",
      "IR_039 3\n",
      "WV_062 4\n",
      "WV_073 5\n",
      "IR_087 6\n",
      "IR_097 7\n",
      "IR_108 8\n",
      "IR_120 9\n",
      "IR_134 10\n",
      "azidiff 0\n",
      "cth 1\n",
      "cldmask 2\n",
      "cot 3\n",
      "cph 4\n",
      "ctt 5\n",
      "cwp 6\n",
      "dcld 7\n",
      "dcot 8\n",
      "dcwp 9\n",
      "dndv 10\n",
      "dreff 11\n",
      "qa 12\n",
      "reff 13\n",
      "satz 14\n",
      "sds 15\n",
      "sds_cs 16\n",
      "sds_diff 17\n",
      "sds_diff_cs 18\n",
      "VIS006 0\n",
      "VIS008 1\n",
      "IR_016 2\n",
      "IR_039 3\n",
      "WV_062 4\n",
      "WV_073 5\n",
      "IR_087 6\n",
      "IR_097 7\n",
      "IR_108 8\n",
      "IR_120 9\n",
      "IR_134 10\n",
      "azidiff 0\n",
      "cth 1\n",
      "cldmask 2\n"
     ]
    },
    {
     "ename": "TypeError",
     "evalue": "Fill value 9.96920996839e+36 overflows dtype int16",
     "output_type": "error",
     "traceback": [
      "\u001b[0;31m---------------------------------------------------------------------------\u001b[0m",
      "\u001b[0;31mTypeError\u001b[0m                                 Traceback (most recent call last)",
      "\u001b[0;32m<ipython-input-11-176a40d5d469>\u001b[0m in \u001b[0;36m<module>\u001b[0;34m()\u001b[0m\n\u001b[1;32m     94\u001b[0m \u001b[0;34m\u001b[0m\u001b[0m\n\u001b[1;32m     95\u001b[0m         \u001b[0;32mprint\u001b[0m \u001b[0mchn\u001b[0m\u001b[0;34m,\u001b[0m \u001b[0mi\u001b[0m\u001b[0;34m\u001b[0m\u001b[0m\n\u001b[0;32m---> 96\u001b[0;31m         \u001b[0mvarids_knmi\u001b[0m\u001b[0;34m[\u001b[0m\u001b[0mi\u001b[0m\u001b[0;34m]\u001b[0m\u001b[0;34m[\u001b[0m\u001b[0;34m:\u001b[0m\u001b[0;34m]\u001b[0m \u001b[0;34m=\u001b[0m \u001b[0mx\u001b[0m\u001b[0;34m\u001b[0m\u001b[0m\n\u001b[0m\u001b[1;32m     97\u001b[0m \u001b[0;34m\u001b[0m\u001b[0m\n\u001b[1;32m     98\u001b[0m     \u001b[0;31m#IR_108[:] = x.tolist(0)\u001b[0m\u001b[0;34m\u001b[0m\u001b[0;34m\u001b[0m\u001b[0m\n",
      "\u001b[0;32mnetCDF4/_netCDF4.pyx\u001b[0m in \u001b[0;36mnetCDF4._netCDF4.Variable.__setitem__ (netCDF4/_netCDF4.c:43796)\u001b[0;34m()\u001b[0m\n",
      "\u001b[0;32m/opt/users/common/packages/anaconda3/envs/PyTroll_bel/lib/python2.7/site-packages/numpy/ma/core.pyc\u001b[0m in \u001b[0;36mfilled\u001b[0;34m(self, fill_value)\u001b[0m\n\u001b[1;32m   3666\u001b[0m             \u001b[0mfill_value\u001b[0m \u001b[0;34m=\u001b[0m \u001b[0mself\u001b[0m\u001b[0;34m.\u001b[0m\u001b[0mfill_value\u001b[0m\u001b[0;34m\u001b[0m\u001b[0m\n\u001b[1;32m   3667\u001b[0m         \u001b[0;32melse\u001b[0m\u001b[0;34m:\u001b[0m\u001b[0;34m\u001b[0m\u001b[0m\n\u001b[0;32m-> 3668\u001b[0;31m             \u001b[0mfill_value\u001b[0m \u001b[0;34m=\u001b[0m \u001b[0m_check_fill_value\u001b[0m\u001b[0;34m(\u001b[0m\u001b[0mfill_value\u001b[0m\u001b[0;34m,\u001b[0m \u001b[0mself\u001b[0m\u001b[0;34m.\u001b[0m\u001b[0mdtype\u001b[0m\u001b[0;34m)\u001b[0m\u001b[0;34m\u001b[0m\u001b[0m\n\u001b[0m\u001b[1;32m   3669\u001b[0m \u001b[0;34m\u001b[0m\u001b[0m\n\u001b[1;32m   3670\u001b[0m         \u001b[0;32mif\u001b[0m \u001b[0mself\u001b[0m \u001b[0;32mis\u001b[0m \u001b[0mmasked_singleton\u001b[0m\u001b[0;34m:\u001b[0m\u001b[0;34m\u001b[0m\u001b[0m\n",
      "\u001b[0;32m/opt/users/common/packages/anaconda3/envs/PyTroll_bel/lib/python2.7/site-packages/numpy/ma/core.pyc\u001b[0m in \u001b[0;36m_check_fill_value\u001b[0;34m(fill_value, ndtype)\u001b[0m\n\u001b[1;32m    483\u001b[0m                 \u001b[0;31m# passed fill_value is not compatible with the ndtype.\u001b[0m\u001b[0;34m\u001b[0m\u001b[0;34m\u001b[0m\u001b[0m\n\u001b[1;32m    484\u001b[0m                 \u001b[0merr_msg\u001b[0m \u001b[0;34m=\u001b[0m \u001b[0;34m\"Fill value %s overflows dtype %s\"\u001b[0m\u001b[0;34m\u001b[0m\u001b[0m\n\u001b[0;32m--> 485\u001b[0;31m                 \u001b[0;32mraise\u001b[0m \u001b[0mTypeError\u001b[0m\u001b[0;34m(\u001b[0m\u001b[0merr_msg\u001b[0m \u001b[0;34m%\u001b[0m \u001b[0;34m(\u001b[0m\u001b[0mfill_value\u001b[0m\u001b[0;34m,\u001b[0m \u001b[0mndtype\u001b[0m\u001b[0;34m)\u001b[0m\u001b[0;34m)\u001b[0m\u001b[0;34m\u001b[0m\u001b[0m\n\u001b[0m\u001b[1;32m    486\u001b[0m     \u001b[0;32mreturn\u001b[0m \u001b[0mnp\u001b[0m\u001b[0;34m.\u001b[0m\u001b[0marray\u001b[0m\u001b[0;34m(\u001b[0m\u001b[0mfill_value\u001b[0m\u001b[0;34m)\u001b[0m\u001b[0;34m\u001b[0m\u001b[0m\n\u001b[1;32m    487\u001b[0m \u001b[0;34m\u001b[0m\u001b[0m\n",
      "\u001b[0;31mTypeError\u001b[0m: Fill value 9.96920996839e+36 overflows dtype int16"
     ]
    }
   ],
   "source": [
    "area_size = global_sat[\"IR_108\"].data.size\n",
    "write_netCDF=True\n",
    "if write_netCDF:\n",
    "\n",
    "    #nc_outfile = '/data/COALITION2/PicturesSatellite/results_BEL/data/logreg/ODYRATE_SEVIRI_' + datetime1.strftime(\"%Y%m%d_%H%M\") + '.nc'\n",
    "    nc_outfile = '/data/COALITION2/PicturesSatellite/results_BEL/data/logreg/ODYRATE_SEVIRI_' + time_slot.strftime(\"%Y%m%d_%H%M\") + '.nc'\n",
    "\n",
    "    print(\"*** write data to: ncdump \", nc_outfile)\n",
    "\n",
    "    import netCDF4 as nc4\n",
    "    f = nc4.Dataset(nc_outfile,'w', format='NETCDF4')\n",
    "\n",
    "    tempgrp = f.createGroup('collocated odyssey rain rate and SEVIRI reflectances and brightness temperatures')\n",
    "\n",
    "    m = global_radar[prop_str+'-MASK'].data.reshape(area_size)\n",
    "    y = global_radar[prop_str].data.reshape(area_size)\n",
    "    y  = y[m==False]\n",
    "    print(\"dataset length\", len(y))\n",
    "\n",
    "    #xx = global_sat['IR_108'].data.reshape(area_size)  \n",
    "    #xx = xx[m==False]\n",
    "\n",
    "    #import pdb\n",
    "    #pdb.set_trace()\n",
    "\n",
    "    lon = lonlats[0].reshape(area_size)\n",
    "    lat = lonlats[1].reshape(area_size)\n",
    "    sza = sza.reshape(area_size)\n",
    "    refl039 = refl039.reshape(area_size)\n",
    "    lon  = lon[m==False]\n",
    "    lon_rad = np.deg2rad(lon)\n",
    "    lat  = lat[m==False]\n",
    "    sza  = sza[m==False]\n",
    "    refl039 = refl039[m==False]\n",
    "    cos_sza =  np.cos(np.deg2rad(sza))\n",
    "    \n",
    "    \n",
    "    \n",
    "    lstime = np.empty(lon_rad.shape) #local solar time\n",
    "    for i in range(len(lon_rad)):\n",
    "        o.lon = lon_rad[i]\n",
    "        lstime[i]=solartime(o) # =  float number that represents an angle in radians and converts to/from a string     \n",
    "    \n",
    "    \n",
    "    #for i in range(100):\n",
    "     #   print y.tolist(0)[i], xx[i], lon[i], lat[i], np.cos(np.deg2rad(sza[i]))\n",
    "\n",
    "    #tempgrp.createDimension('idata', area_size)\n",
    "    tempgrp.createDimension('ndata', len(y))\n",
    "\n",
    "    #IR_108 = tempgrp.createVariable('IR_108', 'f4', 'idata')\n",
    "\n",
    "    varids_sat = range(len(channel_sat))\n",
    "    for chn,i in zip(channel_sat,range(len(channel_sat))):\n",
    "        print chn, i\n",
    "        varids_sat[i] = tempgrp.createVariable(chn, 'f4', 'ndata')\n",
    "        \n",
    "    varids_knmi =range(len(channel_knmi))\n",
    "    for chn,i in zip(channel_knmi,range(len(channel_knmi))):\n",
    "        print chn, i\n",
    "        varids_knmi[i] = tempgrp.createVariable(chn, 'f4', 'ndata')        \n",
    "        \n",
    "    ODY_RAINRATE = tempgrp.createVariable('ODY_RAINRATE','f4', 'ndata')\n",
    "    #time = tempgrp.createVariable('Time', 'i4', 'time')\n",
    "\n",
    "    longitude   = tempgrp.createVariable('Longitude', 'f4', 'ndata')\n",
    "    latitude    = tempgrp.createVariable('Latitude', 'f4',  'ndata')\n",
    "    csza        = tempgrp.createVariable('Cosine Solar Zenith Angle','f4', 'ndata')\n",
    "    lst         = tempgrp.createVariable('Local Solar Time','f4', 'ndata')\n",
    "    r39         = tempgrp.createVariable('IR_039_refl','f4', 'ndata')\n",
    "    \n",
    "    \n",
    "    ODY_RAINRATE[:] = y.tolist(0)\n",
    "    longitude[:]    = lon\n",
    "    latitude[:]     = lat\n",
    "    csza[:]         = cos_sza\n",
    "    lst[:]          = lstime\n",
    "    r39[:]          = refl039\n",
    "\n",
    "    for chn,i in zip(channel_sat,range(len(channel_sat))):\n",
    "\n",
    "        x = global_sat[chn].data.reshape(area_size)  \n",
    "        x = x[m==False]\n",
    "\n",
    "        print chn, i\n",
    "        varids_sat[i][:] = x\n",
    "\n",
    "\n",
    "        \n",
    "    for chn,i in zip(channel_knmi,range(len(channel_knmi))):\n",
    "\n",
    "        x = global_knmi[chn].data.reshape(area_size)  \n",
    "        x = x[m==False]\n",
    "\n",
    "        print chn, i\n",
    "        varids_knmi[i][:] = x\n",
    "        \n",
    "    #IR_108[:] = x.tolist(0)\n",
    "    #IR_108[:] = global_sat[\"IR_108\"].data.reshape(area_size) #The \"[:]\" at the end of the variable instance is necessary\n",
    "\n",
    "    f.close()\n"
   ]
  },
  {
   "cell_type": "code",
   "execution_count": null,
   "metadata": {
    "collapsed": true,
    "scrolled": true
   },
   "outputs": [],
   "source": []
  },
  {
   "cell_type": "code",
   "execution_count": null,
   "metadata": {
    "collapsed": true
   },
   "outputs": [],
   "source": []
  },
  {
   "cell_type": "code",
   "execution_count": null,
   "metadata": {
    "collapsed": true
   },
   "outputs": [],
   "source": []
  },
  {
   "cell_type": "code",
   "execution_count": null,
   "metadata": {
    "collapsed": true,
    "scrolled": true
   },
   "outputs": [],
   "source": [
    "\n"
   ]
  },
  {
   "cell_type": "code",
   "execution_count": null,
   "metadata": {
    "collapsed": true
   },
   "outputs": [],
   "source": [
    " "
   ]
  },
  {
   "cell_type": "code",
   "execution_count": null,
   "metadata": {
    "collapsed": true
   },
   "outputs": [],
   "source": []
  },
  {
   "cell_type": "code",
   "execution_count": null,
   "metadata": {
    "collapsed": true
   },
   "outputs": [],
   "source": []
  },
  {
   "cell_type": "code",
   "execution_count": null,
   "metadata": {
    "collapsed": true
   },
   "outputs": [],
   "source": []
  },
  {
   "cell_type": "code",
   "execution_count": null,
   "metadata": {
    "collapsed": true
   },
   "outputs": [],
   "source": [
    "\n"
   ]
  },
  {
   "cell_type": "code",
   "execution_count": null,
   "metadata": {
    "collapsed": true
   },
   "outputs": [],
   "source": []
  },
  {
   "cell_type": "code",
   "execution_count": null,
   "metadata": {
    "collapsed": true
   },
   "outputs": [],
   "source": []
  }
 ],
 "metadata": {
  "kernelspec": {
   "display_name": "Python 2",
   "language": "python",
   "name": "python2"
  },
  "language_info": {
   "codemirror_mode": {
    "name": "ipython",
    "version": 2
   },
   "file_extension": ".py",
   "mimetype": "text/x-python",
   "name": "python",
   "nbconvert_exporter": "python",
   "pygments_lexer": "ipython2",
   "version": "2.7.13"
  }
 },
 "nbformat": 4,
 "nbformat_minor": 2
}
